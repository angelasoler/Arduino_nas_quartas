{
  "nbformat": 4,
  "nbformat_minor": 0,
  "metadata": {
    "colab": {
      "provenance": [],
      "include_colab_link": true
    },
    "kernelspec": {
      "name": "python3",
      "display_name": "Python 3"
    },
    "language_info": {
      "name": "python"
    }
  },
  "cells": [
    {
      "cell_type": "markdown",
      "metadata": {
        "id": "view-in-github",
        "colab_type": "text"
      },
      "source": [
        "<a href=\"https://colab.research.google.com/github/angelasoler/Arduino_nas_quartas/blob/main/5_WoMakersCode_Bootcamp_Data_Analytics_(2025_2)_Modelo_5.ipynb\" target=\"_parent\"><img src=\"https://colab.research.google.com/assets/colab-badge.svg\" alt=\"Open In Colab\"/></a>"
      ]
    },
    {
      "cell_type": "markdown",
      "source": [
        "DESAFIO 1\n",
        "\n",
        "Peça o tempo (em minutos) para correr 5 km e classifique:\n",
        "\n",
        "A: até 25 min → Atleta\n",
        "\n",
        "B: 26 a 35 min → Bom condicionamento\n",
        "\n",
        "C: 36 a 50 min → Regular\n",
        "\n",
        "D: Acima de 50 min → A melhorar"
      ],
      "metadata": {
        "id": "fZu819fMQNKI"
      }
    },
    {
      "cell_type": "code",
      "source": [
        "try:\n",
        "  time = float(input(\"Quantos minutos você demora para correr 5Km: \"))\n",
        "except Exception as e:\n",
        "  print(f'Error: {e}')\n",
        "\n",
        "classification = ''\n",
        "if (time <= 25):\n",
        "  classification = 'Atleta'\n",
        "elif (time > 25 and time <= 35):\n",
        "  classification = 'Bom condicionamento'\n",
        "elif (time >= 36 and time <= 50):\n",
        "  classification = 'Regular'\n",
        "elif (time > 50):\n",
        "  classification = 'A melhorar'\n",
        "print(f'Sua classificação é {classification}')"
      ],
      "metadata": {
        "id": "tjM2VWBwQSJE",
        "outputId": "9d26632b-1ff4-4b40-bde1-e33ae0ab449d",
        "colab": {
          "base_uri": "https://localhost:8080/"
        }
      },
      "execution_count": 24,
      "outputs": [
        {
          "output_type": "stream",
          "name": "stdout",
          "text": [
            "Quantos minutos você demora para correr 5Km: 0\n",
            "Sua classificação é Atleta\n"
          ]
        }
      ]
    },
    {
      "cell_type": "markdown",
      "source": [
        "DESAFIO 2\n",
        "\n",
        "Peça duas strings e diga se elas são iguais, diferentes, ou se uma está contida dentro da outra."
      ],
      "metadata": {
        "id": "_m8mBod2g9Iv"
      }
    },
    {
      "cell_type": "code",
      "source": [
        "s1 = input(\"Insira a primeira palavra: \")\n",
        "s2 = input(\"Insira a segunda palavra: \")\n",
        "\n",
        "if (s1 == s2):\n",
        "  print(\"As palavras são iguais\")\n",
        "elif (s1 in s2 or s2 in s1):\n",
        "  print(\"Uma palavra está contida dentro da outra\")\n",
        "else:\n",
        "  print(\"As palavras são diferentes\")"
      ],
      "metadata": {
        "id": "G3MkSdjIfMay",
        "outputId": "475a6bac-ef7c-4005-d3eb-0629d10569c8",
        "colab": {
          "base_uri": "https://localhost:8080/"
        }
      },
      "execution_count": 33,
      "outputs": [
        {
          "output_type": "stream",
          "name": "stdout",
          "text": [
            "Insira a primeira palavra: qe\n",
            "Insira a segunda palavra: qe \n",
            "Uma palavra está contida dentro da outra\n"
          ]
        }
      ]
    },
    {
      "cell_type": "markdown",
      "source": [
        "DESAFIO 3\n",
        "\n",
        "O computador sorteia um número par entre 2 e 100.\n",
        "\n",
        "O usuário deve adivinhar qual é, com dicas se o palpite está acima ou abaixo.\n"
      ],
      "metadata": {
        "id": "azEJl_Q6cFFz"
      }
    },
    {
      "cell_type": "code",
      "source": [
        "import random\n",
        "\n",
        "number_list = []\n",
        "n = 2\n",
        "while (n < 100):\n",
        "  number_list.append(n)\n",
        "  n += 1\n",
        "\n",
        "random.shuffle(number_list)\n",
        "raffle = number_list[0]\n",
        "\n",
        "guess = 0\n",
        "\n",
        "while (guess != raffle):\n",
        "  try:\n",
        "    guess = int(input(\"Shute um numero entre 2 e 100: \"))\n",
        "  except Exception:\n",
        "    print('input invalido')\n",
        "  if (guess < raffle):\n",
        "    print(f'{guess} é menor, tente um numero maior!')\n",
        "  elif (guess > raffle):\n",
        "    print(f'{guess} é maior, tente um numero menor!')\n",
        "  else:\n",
        "    print(f\"Assertou o numero é {guess}!\")\n"
      ],
      "metadata": {
        "id": "4kz8g_Z5qGB1",
        "outputId": "25c4c880-40fa-478b-ea22-08fdb6391274",
        "colab": {
          "base_uri": "https://localhost:8080/",
          "height": 408
        }
      },
      "execution_count": 44,
      "outputs": [
        {
          "output_type": "stream",
          "name": "stdout",
          "text": [
            "shute um numero entre 2 e 100: dsfsdf\n",
            "input invalido\n",
            "0 é menor, tente um numero maior!\n"
          ]
        },
        {
          "output_type": "error",
          "ename": "KeyboardInterrupt",
          "evalue": "Interrupted by user",
          "traceback": [
            "\u001b[0;31m---------------------------------------------------------------------------\u001b[0m",
            "\u001b[0;31mKeyboardInterrupt\u001b[0m                         Traceback (most recent call last)",
            "\u001b[0;32m/tmp/ipython-input-44-601992901.py\u001b[0m in \u001b[0;36m<cell line: 0>\u001b[0;34m()\u001b[0m\n\u001b[1;32m     14\u001b[0m \u001b[0;32mwhile\u001b[0m \u001b[0;34m(\u001b[0m\u001b[0mguess\u001b[0m \u001b[0;34m!=\u001b[0m \u001b[0mraffle\u001b[0m\u001b[0;34m)\u001b[0m\u001b[0;34m:\u001b[0m\u001b[0;34m\u001b[0m\u001b[0;34m\u001b[0m\u001b[0m\n\u001b[1;32m     15\u001b[0m   \u001b[0;32mtry\u001b[0m\u001b[0;34m:\u001b[0m\u001b[0;34m\u001b[0m\u001b[0;34m\u001b[0m\u001b[0m\n\u001b[0;32m---> 16\u001b[0;31m     \u001b[0mguess\u001b[0m \u001b[0;34m=\u001b[0m \u001b[0mint\u001b[0m\u001b[0;34m(\u001b[0m\u001b[0minput\u001b[0m\u001b[0;34m(\u001b[0m\u001b[0;34m\"shute um numero entre 2 e 100: \"\u001b[0m\u001b[0;34m)\u001b[0m\u001b[0;34m)\u001b[0m\u001b[0;34m\u001b[0m\u001b[0;34m\u001b[0m\u001b[0m\n\u001b[0m\u001b[1;32m     17\u001b[0m   \u001b[0;32mexcept\u001b[0m \u001b[0mException\u001b[0m\u001b[0;34m:\u001b[0m\u001b[0;34m\u001b[0m\u001b[0;34m\u001b[0m\u001b[0m\n\u001b[1;32m     18\u001b[0m     \u001b[0mprint\u001b[0m\u001b[0;34m(\u001b[0m\u001b[0;34m'input invalido'\u001b[0m\u001b[0;34m)\u001b[0m\u001b[0;34m\u001b[0m\u001b[0;34m\u001b[0m\u001b[0m\n",
            "\u001b[0;32m/usr/local/lib/python3.11/dist-packages/ipykernel/kernelbase.py\u001b[0m in \u001b[0;36mraw_input\u001b[0;34m(self, prompt)\u001b[0m\n\u001b[1;32m   1175\u001b[0m                 \u001b[0;34m\"raw_input was called, but this frontend does not support input requests.\"\u001b[0m\u001b[0;34m\u001b[0m\u001b[0;34m\u001b[0m\u001b[0m\n\u001b[1;32m   1176\u001b[0m             )\n\u001b[0;32m-> 1177\u001b[0;31m         return self._input_request(\n\u001b[0m\u001b[1;32m   1178\u001b[0m             \u001b[0mstr\u001b[0m\u001b[0;34m(\u001b[0m\u001b[0mprompt\u001b[0m\u001b[0;34m)\u001b[0m\u001b[0;34m,\u001b[0m\u001b[0;34m\u001b[0m\u001b[0;34m\u001b[0m\u001b[0m\n\u001b[1;32m   1179\u001b[0m             \u001b[0mself\u001b[0m\u001b[0;34m.\u001b[0m\u001b[0m_parent_ident\u001b[0m\u001b[0;34m[\u001b[0m\u001b[0;34m\"shell\"\u001b[0m\u001b[0;34m]\u001b[0m\u001b[0;34m,\u001b[0m\u001b[0;34m\u001b[0m\u001b[0;34m\u001b[0m\u001b[0m\n",
            "\u001b[0;32m/usr/local/lib/python3.11/dist-packages/ipykernel/kernelbase.py\u001b[0m in \u001b[0;36m_input_request\u001b[0;34m(self, prompt, ident, parent, password)\u001b[0m\n\u001b[1;32m   1217\u001b[0m             \u001b[0;32mexcept\u001b[0m \u001b[0mKeyboardInterrupt\u001b[0m\u001b[0;34m:\u001b[0m\u001b[0;34m\u001b[0m\u001b[0;34m\u001b[0m\u001b[0m\n\u001b[1;32m   1218\u001b[0m                 \u001b[0;31m# re-raise KeyboardInterrupt, to truncate traceback\u001b[0m\u001b[0;34m\u001b[0m\u001b[0;34m\u001b[0m\u001b[0m\n\u001b[0;32m-> 1219\u001b[0;31m                 \u001b[0;32mraise\u001b[0m \u001b[0mKeyboardInterrupt\u001b[0m\u001b[0;34m(\u001b[0m\u001b[0;34m\"Interrupted by user\"\u001b[0m\u001b[0;34m)\u001b[0m \u001b[0;32mfrom\u001b[0m \u001b[0;32mNone\u001b[0m\u001b[0;34m\u001b[0m\u001b[0;34m\u001b[0m\u001b[0m\n\u001b[0m\u001b[1;32m   1220\u001b[0m             \u001b[0;32mexcept\u001b[0m \u001b[0mException\u001b[0m\u001b[0;34m:\u001b[0m\u001b[0;34m\u001b[0m\u001b[0;34m\u001b[0m\u001b[0m\n\u001b[1;32m   1221\u001b[0m                 \u001b[0mself\u001b[0m\u001b[0;34m.\u001b[0m\u001b[0mlog\u001b[0m\u001b[0;34m.\u001b[0m\u001b[0mwarning\u001b[0m\u001b[0;34m(\u001b[0m\u001b[0;34m\"Invalid Message:\"\u001b[0m\u001b[0;34m,\u001b[0m \u001b[0mexc_info\u001b[0m\u001b[0;34m=\u001b[0m\u001b[0;32mTrue\u001b[0m\u001b[0;34m)\u001b[0m\u001b[0;34m\u001b[0m\u001b[0;34m\u001b[0m\u001b[0m\n",
            "\u001b[0;31mKeyboardInterrupt\u001b[0m: Interrupted by user"
          ]
        }
      ]
    },
    {
      "cell_type": "markdown",
      "source": [
        "DESAFIO 4\n",
        "\n",
        "Permita ao usuário fazer uma lista de compras interativa:\n",
        "\n",
        "Adicionar item (nome, quantidade)\n",
        "\n",
        "Ver lista de compras\n",
        "\n",
        "Marcar item como comprado\n",
        "\n",
        "Remover item da lista\n",
        "\n",
        "Sair"
      ],
      "metadata": {
        "id": "qk4Gw-GAqFjY"
      }
    },
    {
      "cell_type": "code",
      "source": [
        "#Execute seu código aqui"
      ],
      "metadata": {
        "id": "FOtsBTYecOUJ"
      },
      "execution_count": null,
      "outputs": []
    },
    {
      "cell_type": "markdown",
      "source": [
        "DESAFIO 5\n",
        "\n",
        "Peça ao usuário o salário e o tempo de casa (em anos).\n",
        "Se o funcionário tiver mais de 5 anos, recebe 10% de bônus; senão, recebe 5%.\n",
        "\n",
        "Mostre o valor do bônus e o novo salário."
      ],
      "metadata": {
        "id": "cpVCv8m5QNm9"
      }
    },
    {
      "cell_type": "code",
      "source": [
        "#Execute seu código aqui"
      ],
      "metadata": {
        "id": "rGHbvDFVcGzy"
      },
      "execution_count": null,
      "outputs": []
    }
  ]
}